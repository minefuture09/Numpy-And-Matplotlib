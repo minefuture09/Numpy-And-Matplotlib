{
 "cells": [
  {
   "cell_type": "code",
   "execution_count": 4,
   "metadata": {},
   "outputs": [
    {
     "data": {
      "image/png": "[encoded data removed]",
      "text/plain": [
       "<Figure size 432x288 with 1 Axes>"
      ]
     },
     "metadata": {
      "needs_background": "light"
     },
     "output_type": "display_data"
    }
   ],
   "source": [
    "import matplotlib.pyplot as plt\n",
    "\n",
    "\n",
    "ages = [5,12,15,32,25,43,52,40,67,6,58,\n",
    "        20,19,98,9,80,10,94,54,5,45,99]\n",
    "\n",
    "range = (0,100)\n",
    "bins = 5\n",
    "\n",
    "plt.hist(ages,bins,range,rwidth = 0.7, color = 'green',histtype = 'bar' )\n",
    "\n",
    "plt.title('Histogram')\n",
    "plt.xlabel(\"age\")\n",
    "plt.ylabel('bins')\n",
    "plt.show()"
   ]
  }
 ],
 "metadata": {
  "kernelspec": {
   "display_name": "Python 3",
   "language": "python",
   "name": "python3"
  },
  "language_info": {
   "codemirror_mode": {
    "name": "ipython",
    "version": 3
   },
   "file_extension": ".py",
   "mimetype": "text/x-python",
   "name": "python",
   "nbconvert_exporter": "python",
   "pygments_lexer": "ipython3",
   "version": "3.7.1"
  }
 },
 "nbformat": 4,
 "nbformat_minor": 4
}
